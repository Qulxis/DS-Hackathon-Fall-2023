{
 "cells": [
  {
   "cell_type": "code",
   "execution_count": 6,
   "metadata": {},
   "outputs": [],
   "source": [
    "import pandas as pd\n",
    "from sklearn.cluster import KMeans\n",
    "from sklearn.preprocessing import StandardScaler\n",
    "from sklearn.metrics import silhouette_score\n",
    "from sklearn.feature_selection import VarianceThreshold\n",
    "import matplotlib.pyplot as plt\n",
    "from sklearn.decomposition import PCA\n",
    "import json\n"
   ]
  },
  {
   "cell_type": "code",
   "execution_count": 7,
   "metadata": {},
   "outputs": [],
   "source": [
    "# Load the schema from the JSON file\n",
    "with open('./data/schema_cleaned3.json') as schema_file:\n",
    "    schema = json.load(schema_file)\n",
    "\n",
    "# Convert schema to the format required by pandas\n",
    "# Note: In this case, we're assuming all the dtypes are compatible with pandas dtypes.\n",
    "# If there are any discrepancies, you may need to manually adjust the dtypes.\n",
    "pandas_schema = {key: value for key, value in schema.items()}\n",
    "feature_list = [key for key, value in schema.items()]\n"
   ]
  },
  {
   "cell_type": "code",
   "execution_count": 8,
   "metadata": {},
   "outputs": [
    {
     "name": "stdout",
     "output_type": "stream",
     "text": [
      "['nyc_borough_block_and_lot', 'address_1', 'primary_property_type_self', 'national_median_reference', 'construction_status', 'metered_areas_energy', 'energy_star_certification_1', 'estimated_values_energy', 'estimated_values_water', 'alert_data_center_issue_with', 'alert_energy_meter_has_less', 'alert_energy_meter_has_gaps', 'alert_energy_meter_has', 'alert_energy_no_meters', 'alert_energy_meter_has_single', 'alert_water_meter_has_less', 'alert_property_has_no_uses', 'default_values', 'temporary_values', 'nta', 'borough']\n"
     ]
    }
   ],
   "source": [
    "# Now read the cleaned CSV file using the schema\n",
    "df_cleaned = pd.read_csv('./data/data_cleaned3.csv', dtype=pandas_schema)\n",
    "\n",
    "# Select the categorical columns that need one-hot encoding\n",
    "categorical_columns = [key for key,\n",
    "                       value in schema.items() if value == 'object']\n",
    "numerical_columns = [key for key,\n",
    "                     value in schema.items() if value == 'float64']\n",
    "\n",
    "print(categorical_columns)\n"
   ]
  },
  {
   "cell_type": "code",
   "execution_count": 10,
   "metadata": {},
   "outputs": [
    {
     "name": "stdout",
     "output_type": "stream",
     "text": [
      "21\n",
      "['nyc_borough_block_and_lot', 'address_1', 'primary_property_type_self', 'national_median_reference', 'construction_status', 'metered_areas_energy', 'energy_star_certification_1', 'estimated_values_energy', 'estimated_values_water', 'alert_data_center_issue_with', 'alert_energy_meter_has_less', 'alert_energy_meter_has_gaps', 'alert_energy_meter_has', 'alert_energy_no_meters', 'alert_energy_meter_has_single', 'alert_water_meter_has_less', 'alert_property_has_no_uses', 'default_values', 'temporary_values', 'nta', 'borough']\n"
     ]
    }
   ],
   "source": [
    "print(len(categorical_columns))\n",
    "print(categorical_columns)"
   ]
  }
 ],
 "metadata": {
  "kernelspec": {
   "display_name": "Python 3",
   "language": "python",
   "name": "python3"
  },
  "language_info": {
   "codemirror_mode": {
    "name": "ipython",
    "version": 3
   },
   "file_extension": ".py",
   "mimetype": "text/x-python",
   "name": "python",
   "nbconvert_exporter": "python",
   "pygments_lexer": "ipython3",
   "version": "3.9.7"
  },
  "orig_nbformat": 4
 },
 "nbformat": 4,
 "nbformat_minor": 2
}
