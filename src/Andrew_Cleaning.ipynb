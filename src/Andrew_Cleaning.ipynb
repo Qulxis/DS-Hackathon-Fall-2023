{
 "cells": [
  {
   "cell_type": "code",
   "execution_count": 13,
   "metadata": {},
   "outputs": [],
   "source": [
    "import pandas as pd\n",
    "from sodapy import Socrata\n",
    "import numpy as np"
   ]
  },
  {
   "cell_type": "code",
   "execution_count": 2,
   "metadata": {},
   "outputs": [],
   "source": [
    "# Load data\n",
    "\n",
    "END_POINT = \"data.cityofnewyork.us\"\n",
    "APP_TOKEN = 'H1WAwQxioSdAof6QtrmMRKSyb'\n",
    "USERNAME = 'b.gutu@columbia.edu'\n",
    "PASSWORD = 'M#-wMw6;]&]kU@r'"
   ]
  },
  {
   "cell_type": "code",
   "execution_count": 15,
   "metadata": {},
   "outputs": [],
   "source": [
    "\n",
    "client = Socrata(END_POINT,\n",
    "                 APP_TOKEN,\n",
    "                 username=USERNAME,\n",
    "                 password=PASSWORD)\n",
    "\n",
    "# First 2000 results, returned as JSON from API / converted to Python list of\n",
    "# dictionaries by sodapy.\n",
    "results = client.get(\"7x5e-2fxh\",limit=20000) #feel free to unlimit this if you'd like. 2000 is sufficient for the hackathon (if not doing ML)\n",
    "\n",
    "# Convert to pandas DataFrame\n",
    "results_df = pd.DataFrame.from_records(results)\n"
   ]
  },
  {
   "cell_type": "code",
   "execution_count": 16,
   "metadata": {},
   "outputs": [
    {
     "name": "stdout",
     "output_type": "stream",
     "text": [
      "['property_id', 'property_name', 'parent_property_id', 'parent_property_name', 'year_ending', 'nyc_borough_block_and_lot', 'nyc_building_identification', 'address_1', 'city', 'postal_code', 'primary_property_type_self', 'primary_property_type', 'national_median_reference', 'list_of_all_property_use', 'largest_property_use_type', 'largest_property_use_type_1', '_2nd_largest_property_use', '_2nd_largest_property_use_1', '_3rd_largest_property_use', '_3rd_largest_property_use_1', 'year_built', 'construction_status', 'number_of_buildings', 'occupancy', 'metered_areas_energy', 'metered_areas_water', 'energy_star_score', 'national_median_energy_star', 'target_energy_star_score', 'reason_s_for_no_score', 'energy_star_certification', 'energy_star_certification_1', 'energy_star_certification_2', 'site_eui_kbtu_ft', 'weather_normalized_site_eui', 'national_median_site_eui', 'site_energy_use_kbtu', 'weather_normalized_site_energy', 'weather_normalized_site', 'weather_normalized_site_1', 'source_eui_kbtu_ft', 'weather_normalized_source', 'national_median_source_eui', 'source_energy_use_kbtu', 'weather_normalized_source_1', 'fuel_oil_1_use_kbtu', 'fuel_oil_2_use_kbtu', 'fuel_oil_4_use_kbtu', 'fuel_oil_5_6_use_kbtu', 'diesel_2_use_kbtu', 'propane_use_kbtu', 'district_steam_use_kbtu', 'district_hot_water_use_kbtu', 'district_chilled_water_use', 'natural_gas_use_kbtu', 'natural_gas_use_therms', 'weather_normalized_site_2', 'electricity_use_grid_purchase', 'electricity_use_grid_purchase_1', 'weather_normalized_site_3', 'electricity_use_grid_purchase_2', 'electricity_use_grid_purchase_3', 'electricity_use_generated', 'electricity_use_generated_1', 'electricity_use_generated_2', 'electricity_use_generated_3', 'annual_maximum_demand_kw', 'annual_maximum_demand_mm', 'annual_maximum_demand_meter', 'green_power_onsite_kwh', 'green_power_offsite_kwh', 'green_power_onsite_and_offsite', 'total_ghg_emissions_metric', 'direct_ghg_emissions_metric', 'total_ghg_emissions_intensity', 'direct_ghg_emissions_intensity', 'indirect_ghg_emissions_metric', 'net_emissions_metric_tons', 'indirect_ghg_emissions', 'national_median_total_ghg', 'egrid_output_emissions_rate', 'avoided_emissions_onsite', 'avoided_emissions_offsite', 'avoided_emissions_onsite_1', 'percent_of_electricity_that', 'percent_of_recs_retained', 'percent_of_total_electricity', 'leed_us_project_id', 'adult_education_gross_floor', 'ambulatory_surgical_center', 'automobile_dealership_gross', 'bank_branch_gross_floor_area', 'barracks_gross_floor_area', 'college_university_gross', 'convention_center_gross_floor', 'courthouse_gross_floor_area', 'data_center_gross_floor_area', 'data_center_ups_system', 'data_center_cooling_equipment', 'data_center_it_energy', 'data_center_energy_estimates', 'data_center_ups_output_meter', 'data_center_pdu_input_meter', 'data_center_pdu_output_meter', 'data_center_it_equipment', 'data_center_it_site_energy', 'data_center_it_source_energy', 'data_center_pue', 'data_center_national_median', 'distribution_center_gross', 'enclosed_mall_gross_floor', 'energy_power_station_gross', 'financial_office_gross_floor', 'financial_office_number_of', 'financial_office_weekly', 'financial_office_number_of_1', 'fitness_center_health_club', 'food_sales_gross_floor_area', 'food_service_gross_floor', 'hospital_general_medical', 'hospital_general_medical_1', 'hospital_general_medical_2', 'hospital_general_medical_3', 'hospital_general_medical_4', 'hospital_general_medical_5', 'hospital_general_medical_6', 'hospital_general_medical_7', 'hospital_general_medical_8', 'hospital_general_medical_9', 'medical_office_gross_floor', 'medical_office_number_of', 'medical_office_number_of_1', 'medical_office_number_of_2', 'medical_office_percent_that', 'medical_office_percent_that_1', 'medical_office_weekly', 'outpatient_rehabilitation', 'urgent_care_clinic_other', 'hotel_gross_floor_area_ft', 'hotel_gym_fitness_center', 'k_12_school_gross_floor_area', 'pre_school_daycare_gross', 'laboratory_gross_floor_area', 'mailing_center_post_office', 'movie_theater_gross_floor', 'manufacturing_industrial', 'multifamily_housing_government', 'multifamily_housing_gross', 'multifamily_housing_number', 'multifamily_housing_number_1', 'multifamily_housing_number_2', 'multifamily_housing_number_3', 'multifamily_housing_number_4', 'multifamily_housing_total', 'multifamily_housing_total_1', 'multifamily_housing_number_5', 'multifamily_housing_number_6', 'multifamily_housing_number_7', 'multifamily_housing_percent', 'multifamily_housing_percent_1', 'multifamily_housing_resident', 'residence_hall_dormitory', 'non_refrigerated_warehouse', 'office_gross_floor_area_ft', 'office_number_of_computers', 'office_number_of_workers', 'office_percent_that_can_be', 'office_percent_that_can_be_1', 'office_weekly_operating_hours', 'office_worker_density_number', 'other_gross_floor_area_ft', 'museum_gross_floor_area_ft', 'performing_arts_gross_floor', 'parking_gross_floor_area', 'parking_completely_enclosed', 'parking_open_parking_lot', 'parking_partially_enclosed', 'refrigerated_warehouse_gross', 'restaurant_gross_floor_area', 'restaurant_weekly_operating', 'restaurant_worker_density', 'retail_store_gross_floor', 'retail_store_number_of_walk', 'retail_store_number_of_open', 'self_storage_facility_gross', 'senior_living_community_gross', 'senior_living_community_living', 'social_meeting_hall_gross', 'supermarket_grocery_gross', 'supermarket_grocery_number', 'supermarket_grocery_number_1', 'wholesale_club_supercenter', 'wholesale_club_supercenter_1', 'wastewater_treatment_plant', 'worship_facility_gross_floor', 'estimated_data_flag', 'estimated_data_flag_natural', 'estimated_data_flag_fuel', 'estimated_data_flag_fuel_1', 'estimated_data_flag_fuel_2', 'estimated_data_flag_fuel_3', 'estimated_data_flag_district', 'estimated_data_flag_1', 'estimated_values_energy', 'estimated_values_water', 'alert_data_center_issue_with', 'alert_energy_meter_has_less', 'alert_energy_meter_has_gaps', 'alert_energy_meter_has', 'alert_energy_no_meters', 'alert_energy_meter_has_single', 'alert_water_meter_has_less', 'alert_property_has_no_uses', 'default_values', 'temporary_values', 'property_gfa_self_reported', 'property_gfa_calculated', 'property_gfa_calculated_1', 'property_gfa_calculated_2', 'property_notes', 'water_use_all_water_sources', 'indoor_water_use_all_water', 'outdoor_water_use_all_water', 'municipally_supplied_potable', 'municipally_supplied_potable_1', 'municipally_supplied_potable_2', 'municipally_supplied_potable_3', 'third_party_certification', 'third_party_certification_1', 'third_party_certification_2', 'last_modified_date_property', 'last_modified_date_electric', 'last_modified_date_gas_meters', 'last_modified_date_non', 'last_modified_date_water', 'last_modified_date_property_1', 'number_of_active_energy_meters', 'number_of_active_energy_meters_1', 'number_of_active_energy_meters_2', 'number_of_active_it_meters', 'generation_date', 'submission_date', 'latitude', 'longitude', 'community_board', 'council_district', 'census_tract', 'nta', 'borough']\n"
     ]
    }
   ],
   "source": [
    "# results_df.head(10)\n",
    "cols = list(results_df.columns)\n",
    "print(cols)\n",
    "data = results_df"
   ]
  },
  {
   "cell_type": "markdown",
   "metadata": {},
   "source": [
    "## Cleaning Data"
   ]
  },
  {
   "cell_type": "code",
   "execution_count": 17,
   "metadata": {},
   "outputs": [
    {
     "data": {
      "text/plain": [
       "latitude            3.93\n",
       "longitude           3.93\n",
       "community_board     3.93\n",
       "council_district    3.93\n",
       "census_tract        3.93\n",
       "nta                 3.93\n",
       "borough             3.91\n",
       "property_notes      0.20\n",
       "dtype: float64"
      ]
     },
     "execution_count": 17,
     "metadata": {},
     "output_type": "execute_result"
    }
   ],
   "source": [
    "# Find the percentage of missing values for each column\n",
    "missing_percent = (data.isnull().sum() / len(data)) * 100\n",
    "\n",
    "# Filter out columns that have missing values\n",
    "columns_with_missing = missing_percent[missing_percent > 0].sort_values(ascending=False)\n",
    "\n",
    "columns_with_missing\n"
   ]
  },
  {
   "cell_type": "code",
   "execution_count": 20,
   "metadata": {},
   "outputs": [
    {
     "data": {
      "text/plain": [
       "Series([], dtype: float64)"
      ]
     },
     "execution_count": 20,
     "metadata": {},
     "output_type": "execute_result"
    }
   ],
   "source": [
    "# Drop missing data\n",
    "data.dropna(inplace=True)\n",
    "# Find the percentage of missing values for each column\n",
    "missing_percent = (data.isnull().sum() / len(data)) * 100\n",
    "\n",
    "# Filter out columns that have missing values\n",
    "columns_with_missing = missing_percent[missing_percent > 0].sort_values(ascending=False)\n",
    "\n",
    "columns_with_missing\n"
   ]
  },
  {
   "cell_type": "code",
   "execution_count": 36,
   "metadata": {},
   "outputs": [
    {
     "name": "stdout",
     "output_type": "stream",
     "text": [
      "[dtype('float64'), dtype('O'), dtype('O'), dtype('O'), dtype('<M8[ns]'), dtype('O'), dtype('O'), dtype('O'), dtype('O'), dtype('O'), dtype('O'), dtype('O'), dtype('O'), dtype('O'), dtype('O'), dtype('O'), dtype('O'), dtype('O'), dtype('O'), dtype('O'), dtype('float64'), dtype('O'), dtype('float64'), dtype('float64'), dtype('O'), dtype('O'), dtype('O'), dtype('float64'), dtype('O'), dtype('O'), dtype('O'), dtype('O'), dtype('O'), dtype('O'), dtype('O'), dtype('O'), dtype('O'), dtype('O'), dtype('O'), dtype('O'), dtype('O'), dtype('O'), dtype('O'), dtype('O'), dtype('O'), dtype('O'), dtype('O'), dtype('O'), dtype('O'), dtype('O'), dtype('O'), dtype('O'), dtype('O'), dtype('O'), dtype('O'), dtype('O'), dtype('O'), dtype('O'), dtype('O'), dtype('O'), dtype('O'), dtype('O'), dtype('O'), dtype('O'), dtype('O'), dtype('O'), dtype('O'), dtype('O'), dtype('O'), dtype('O'), dtype('O'), dtype('O'), dtype('O'), dtype('O'), dtype('O'), dtype('O'), dtype('O'), dtype('O'), dtype('O'), dtype('O'), dtype('O'), dtype('O'), dtype('O'), dtype('O'), dtype('O'), dtype('O'), dtype('O'), dtype('O'), dtype('O'), dtype('O'), dtype('O'), dtype('O'), dtype('O'), dtype('O'), dtype('O'), dtype('O'), dtype('O'), dtype('O'), dtype('O'), dtype('O'), dtype('O'), dtype('O'), dtype('O'), dtype('O'), dtype('O'), dtype('O'), dtype('O'), dtype('O'), dtype('O'), dtype('O'), dtype('O'), dtype('O'), dtype('O'), dtype('O'), dtype('O'), dtype('O'), dtype('O'), dtype('O'), dtype('O'), dtype('O'), dtype('O'), dtype('O'), dtype('O'), dtype('O'), dtype('O'), dtype('O'), dtype('O'), dtype('O'), dtype('O'), dtype('O'), dtype('O'), dtype('O'), dtype('O'), dtype('O'), dtype('O'), dtype('O'), dtype('O'), dtype('O'), dtype('O'), dtype('O'), dtype('O'), dtype('O'), dtype('O'), dtype('O'), dtype('O'), dtype('O'), dtype('O'), dtype('O'), dtype('O'), dtype('O'), dtype('O'), dtype('O'), dtype('O'), dtype('O'), dtype('O'), dtype('O'), dtype('O'), dtype('O'), dtype('O'), dtype('O'), dtype('O'), dtype('O'), dtype('O'), dtype('O'), dtype('O'), dtype('O'), dtype('O'), dtype('O'), dtype('O'), dtype('O'), dtype('O'), dtype('O'), dtype('O'), dtype('O'), dtype('O'), dtype('O'), dtype('O'), dtype('O'), dtype('O'), dtype('O'), dtype('O'), dtype('O'), dtype('O'), dtype('O'), dtype('O'), dtype('O'), dtype('O'), dtype('O'), dtype('O'), dtype('O'), dtype('O'), dtype('O'), dtype('O'), dtype('O'), dtype('O'), dtype('O'), dtype('O'), dtype('O'), dtype('O'), dtype('O'), dtype('O'), dtype('O'), dtype('O'), dtype('O'), dtype('O'), dtype('O'), dtype('O'), dtype('O'), dtype('O'), dtype('O'), dtype('O'), dtype('O'), dtype('O'), dtype('O'), dtype('O'), dtype('float64'), dtype('O'), dtype('O'), dtype('O'), dtype('O'), dtype('O'), dtype('O'), dtype('O'), dtype('O'), dtype('O'), dtype('O'), dtype('O'), dtype('O'), dtype('O'), dtype('O'), dtype('O'), dtype('O'), dtype('O'), dtype('O'), dtype('O'), dtype('O'), dtype('float64'), dtype('float64'), dtype('float64'), dtype('float64'), dtype('<M8[ns]'), dtype('<M8[ns]'), dtype('float64'), dtype('float64'), dtype('float64'), dtype('float64'), dtype('float64'), dtype('O'), dtype('O')]\n",
      "col not present bin\n",
      "col not present bbl\n",
      "col not present dof_benchmarking_submission_id\n"
     ]
    },
    {
     "data": {
      "text/plain": [
       "{'numeric': 15, 'text': 230, 'floating_timestamp': 3}"
      ]
     },
     "execution_count": 36,
     "metadata": {},
     "output_type": "execute_result"
    }
   ],
   "source": [
    "# Adjusting data types\n",
    "print(list(data.dtypes))\n",
    "\n",
    "types = {'numeric':0,'text':0,'floating_timestamp':0}\n",
    "from schema import schema_dict\n",
    "\n",
    "for column, dtype in schema_dict.items():\n",
    "    if column not in data.columns:\n",
    "        print('col not present',column)\n",
    "        continue\n",
    "    if dtype == 'number':\n",
    "        types['numeric'] +=1\n",
    "        data[column] = data[column].astype(float)  # or .astype(int) depending on the specifics\n",
    "    elif dtype == 'text':\n",
    "        types['text'] +=1\n",
    "\n",
    "        data[column] = data[column].astype(str)\n",
    "    elif dtype == 'floating_timestamp':\n",
    "        types['floating_timestamp'] +=1\n",
    "\n",
    "        data[column] = pd.to_datetime(data[column])\n",
    "\n",
    "types\n"
   ]
  },
  {
   "cell_type": "code",
   "execution_count": 25,
   "metadata": {},
   "outputs": [],
   "source": [
    "# Choosing initial features and targets:\n",
    "\n",
    "# Measuring Carbon footprints:\n",
    "target = 'net_emissions_metric_tons'\n",
    "\n",
    "# Convert to numerical\n",
    "data[target] = pd.to_numeric(data[target], errors='coerce')\n",
    "\n",
    "\n",
    "features = ['']\n"
   ]
  },
  {
   "cell_type": "code",
   "execution_count": 26,
   "metadata": {},
   "outputs": [
    {
     "name": "stderr",
     "output_type": "stream",
     "text": [
      "C:\\Users\\andre\\AppData\\Local\\Temp\\ipykernel_33812\\996780192.py:1: DtypeWarning: Columns (9,15,216,217) have mixed types. Specify dtype option on import or set low_memory=False.\n",
      "  df = pd.read_csv('./data/energy_track_data.csv')\n"
     ]
    }
   ],
   "source": [
    "df = pd.read_csv('./data/energy_track_data.csv')"
   ]
  },
  {
   "cell_type": "code",
   "execution_count": null,
   "metadata": {},
   "outputs": [],
   "source": []
  },
  {
   "cell_type": "code",
   "execution_count": null,
   "metadata": {},
   "outputs": [],
   "source": []
  }
 ],
 "metadata": {
  "kernelspec": {
   "display_name": "Python 3",
   "language": "python",
   "name": "python3"
  },
  "language_info": {
   "codemirror_mode": {
    "name": "ipython",
    "version": 3
   },
   "file_extension": ".py",
   "mimetype": "text/x-python",
   "name": "python",
   "nbconvert_exporter": "python",
   "pygments_lexer": "ipython3",
   "version": "3.9.13"
  }
 },
 "nbformat": 4,
 "nbformat_minor": 2
}
