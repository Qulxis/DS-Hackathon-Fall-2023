{
 "cells": [
  {
   "cell_type": "markdown",
   "source": [
    "## Carbon Footprint Assessment:\n",
    "Develop a metric for evaluating building carbon footprints, accounting for energy and water consumption, size, and other factors."
   ],
   "metadata": {
    "collapsed": false
   },
   "id": "d69ab20796085f62"
  },
  {
   "cell_type": "code",
   "execution_count": 23,
   "outputs": [],
   "source": [
    "import pandas as pd\n",
    "from sklearn.cluster import KMeans\n",
    "from sklearn.preprocessing import StandardScaler\n",
    "import matplotlib.pyplot as plt\n",
    "from sklearn.decomposition import PCA\n",
    "import json\n",
    "import joblib"
   ],
   "metadata": {
    "collapsed": false,
    "ExecuteTime": {
     "end_time": "2023-10-07T23:26:01.904585Z",
     "start_time": "2023-10-07T23:26:01.902320Z"
    }
   },
   "id": "initial_id"
  },
  {
   "cell_type": "code",
   "execution_count": 29,
   "outputs": [
    {
     "name": "stdout",
     "output_type": "stream",
     "text": [
      "62\n",
      "features = 62\n"
     ]
    }
   ],
   "source": [
    "# Load the schema from the JSON file\n",
    "with open('./data/schema_cleaned.json') as schema_file:\n",
    "    schema = json.load(schema_file)\n",
    "\n",
    "# Convert schema to the format required by pandas\n",
    "# Note: In this case, we're assuming all the dtypes are compatible with pandas dtypes.\n",
    "# If there are any discrepancies, you may need to manually adjust the dtypes.\n",
    "pandas_schema = {key: value for key, value in schema.items()}\n",
    "print(len(pandas_schema))\n",
    "feature_list = [key for key, value in schema.items()]\n",
    "print(f\"features = {len(feature_list)}\")\n",
    "\n",
    "# Now df has the schema as specified in the schema.json file"
   ],
   "metadata": {
    "collapsed": false,
    "ExecuteTime": {
     "end_time": "2023-10-07T23:27:52.618627Z",
     "start_time": "2023-10-07T23:27:52.613040Z"
    }
   },
   "id": "679630cc2668661e"
  },
  {
   "cell_type": "markdown",
   "source": [
    "## Data Preparation\n",
    "Since not all our data is numerical, we'll need to do some one-hot encoding.\n",
    "Given all the categorical columns, we're going to use pandas library for one-hot encoding."
   ],
   "metadata": {
    "collapsed": false
   },
   "id": "fea6ab7f7d2f954d"
  },
  {
   "cell_type": "code",
   "execution_count": 30,
   "outputs": [],
   "source": [
    "# Now read the cleaned CSV file using the schema\n",
    "df_cleaned = pd.read_csv('./data/data_cleaned.csv', dtype=pandas_schema)\n",
    "\n",
    "# Select the categorical columns that need one-hot encoding\n",
    "categorical_columns = [key for key, value in schema.items() if value == 'object']\n",
    "\n",
    "# Perform one-hot encoding on the selected columns, and will be used for K-Means\n",
    "data_encoded = pd.get_dummies(df_cleaned, columns=categorical_columns)  # Perform one-hot encoding"
   ],
   "metadata": {
    "collapsed": false,
    "ExecuteTime": {
     "end_time": "2023-10-07T23:28:02.516339Z",
     "start_time": "2023-10-07T23:27:56.749714Z"
    }
   },
   "id": "fd682c454445f26e"
  },
  {
   "cell_type": "markdown",
   "source": [
    "## Feature Selection & Scaling\n",
    "Choosing the relevant features for clustering the different types of buildings"
   ],
   "metadata": {
    "collapsed": false
   },
   "id": "cc102983c7d2d184"
  },
  {
   "cell_type": "code",
   "execution_count": 31,
   "outputs": [],
   "source": [
    "# Perform dimensionality reduction using PCA\n",
    "pca = PCA(n_components=2)  # Adjust the number of components as needed\n",
    "reduced_features = pca.fit_transform(data_encoded)\n"
   ],
   "metadata": {
    "collapsed": false,
    "ExecuteTime": {
     "end_time": "2023-10-07T23:32:24.833040Z",
     "start_time": "2023-10-07T23:28:39.153476Z"
    }
   },
   "id": "e1463ab6046ce462"
  },
  {
   "cell_type": "code",
   "execution_count": 33,
   "outputs": [
    {
     "name": "stdout",
     "output_type": "stream",
     "text": [
      "['PC1', 'PC2']\n"
     ]
    }
   ],
   "source": [
    "column_names = [f'PC{i}' for i in range(1, 3)]\n",
    "print(column_names)"
   ],
   "metadata": {
    "collapsed": false,
    "ExecuteTime": {
     "end_time": "2023-10-07T23:34:02.849648Z",
     "start_time": "2023-10-07T23:34:02.848969Z"
    }
   },
   "id": "fc47ad58e484d9b3"
  },
  {
   "cell_type": "markdown",
   "source": [
    "## K-Means Clustering\n",
    "We should "
   ],
   "metadata": {
    "collapsed": false
   },
   "id": "f8f8508ef670e96b"
  },
  {
   "cell_type": "code",
   "execution_count": 39,
   "outputs": [
    {
     "name": "stderr",
     "output_type": "stream",
     "text": [
      "/Users/bgutu/Desktop/Fall23/Hackton/DS-Hackathon-Fall-2023/.venv/lib/python3.10/site-packages/sklearn/cluster/_kmeans.py:1416: FutureWarning: The default value of `n_init` will change from 10 to 'auto' in 1.4. Set the value of `n_init` explicitly to suppress the warning\n",
      "  super()._check_params_vs_input(X, default_n_init=10)\n"
     ]
    },
    {
     "data": {
      "text/plain": "<Figure size 640x480 with 1 Axes>",
      "image/png": "[encoded data removed]"
     },
     "metadata": {},
     "output_type": "display_data"
    }
   ],
   "source": [
    "# Choose the number of clusters (K)\n",
    "K = 3  # Replace with the desired number of clusters\n",
    "\n",
    "# Create a K-Means model\n",
    "kmeans_model = KMeans(n_clusters=K, random_state=42)\n",
    "\n",
    "# Fit the K-Means model to the reduced features\n",
    "kmeans_model.fit(reduced_features)\n",
    "\n",
    "# Get cluster assignments for each data point in the dataset\n",
    "cluster_assignments = kmeans_model.predict(reduced_features)\n",
    "\n",
    "# Create a scatter plot to visualize the clusters\n",
    "plt.scatter(reduced_features[:,0], reduced_features[:,1], c=cluster_assignments, cmap='rainbow')\n",
    "plt.xlabel('Feature 1')\n",
    "plt.ylabel('Feature 2')\n",
    "plt.title('K-Means Clustering')\n",
    "plt.show()"
   ],
   "metadata": {
    "collapsed": false,
    "ExecuteTime": {
     "end_time": "2023-10-07T23:39:05.546258Z",
     "start_time": "2023-10-07T23:39:03.172876Z"
    }
   },
   "id": "4719a82c708cb2f2"
  },
  {
   "cell_type": "code",
   "execution_count": 38,
   "outputs": [],
   "source": [],
   "metadata": {
    "collapsed": false,
    "ExecuteTime": {
     "end_time": "2023-10-07T23:38:58.256182Z",
     "start_time": "2023-10-07T23:38:58.234014Z"
    }
   },
   "id": "50b6ffe825cf2113"
  },
  {
   "cell_type": "code",
   "execution_count": null,
   "outputs": [],
   "source": [],
   "metadata": {
    "collapsed": false
   },
   "id": "8056f46af95b3d0e"
  }
 ],
 "metadata": {
  "kernelspec": {
   "display_name": "Python 3",
   "language": "python",
   "name": "python3"
  },
  "language_info": {
   "codemirror_mode": {
    "name": "ipython",
    "version": 2
   },
   "file_extension": ".py",
   "mimetype": "text/x-python",
   "name": "python",
   "nbconvert_exporter": "python",
   "pygments_lexer": "ipython2",
   "version": "2.7.6"
  }
 },
 "nbformat": 4,
 "nbformat_minor": 5
}
