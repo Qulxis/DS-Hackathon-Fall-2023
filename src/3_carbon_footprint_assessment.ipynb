{
 "cells": [
  {
   "cell_type": "markdown",
   "id": "d69ab20796085f62",
   "metadata": {
    "collapsed": false
   },
   "source": [
    "## Carbon Footprint Assessment:\n",
    "Develop a metric for evaluating building carbon footprints, accounting for energy and water consumption, size, and other factors."
   ]
  },
  {
   "cell_type": "code",
   "execution_count": 90,
   "id": "initial_id",
   "metadata": {
    "collapsed": false,
    "ExecuteTime": {
     "end_time": "2023-10-08T00:59:36.735975Z",
     "start_time": "2023-10-08T00:59:36.733709Z"
    }
   },
   "outputs": [],
   "source": [
    "import pandas as pd\n",
    "from sklearn.cluster import KMeans\n",
    "from sklearn.preprocessing import StandardScaler\n",
    "from sklearn.metrics import silhouette_score\n",
    "from sklearn.feature_selection import VarianceThreshold\n",
    "import matplotlib.pyplot as plt\n",
    "from sklearn.decomposition import PCA\n",
    "import json\n"
   ]
  },
  {
   "cell_type": "code",
   "execution_count": 91,
   "id": "679630cc2668661e",
   "metadata": {
    "collapsed": false,
    "ExecuteTime": {
     "end_time": "2023-10-08T00:59:38.106574Z",
     "start_time": "2023-10-08T00:59:38.101892Z"
    }
   },
   "outputs": [],
   "source": [
    "# Load the schema from the JSON file\n",
    "with open('./data/schema_cleaned2.json') as schema_file:\n",
    "    schema = json.load(schema_file)\n",
    "\n",
    "# Convert schema to the format required by pandas\n",
    "# Note: In this case, we're assuming all the dtypes are compatible with pandas dtypes.\n",
    "# If there are any discrepancies, you may need to manually adjust the dtypes.\n",
    "pandas_schema = {key: value for key, value in schema.items()}\n",
    "feature_list = [key for key, value in schema.items()]"
   ]
  },
  {
   "cell_type": "markdown",
   "id": "fea6ab7f7d2f954d",
   "metadata": {
    "collapsed": false
   },
   "source": [
    "## Data Preparation\n",
    "Since not all our data is numerical, we'll need to do some one-hot encoding.\n",
    "Given all the categorical columns, we're going to use pandas library for one-hot encoding."
   ]
  },
  {
   "cell_type": "code",
   "execution_count": 108,
   "id": "fd682c454445f26e",
   "metadata": {
    "collapsed": false,
    "ExecuteTime": {
     "end_time": "2023-10-08T01:12:54.151Z",
     "start_time": "2023-10-08T01:12:54.070013Z"
    }
   },
   "outputs": [
    {
     "name": "stdout",
     "output_type": "stream",
     "text": [
      "['year_ending', 'nyc_borough_block_and_lot', 'address_1', 'postal_code', 'primary_property_type_self', 'national_median_reference', 'construction_status', 'metered_areas_energy', 'energy_star_certification_1', 'estimated_values_energy', 'estimated_values_water', 'alert_data_center_issue_with', 'alert_energy_meter_has_less', 'alert_energy_meter_has_gaps', 'alert_energy_meter_has', 'alert_energy_no_meters', 'alert_energy_meter_has_single', 'alert_water_meter_has_less', 'alert_property_has_no_uses', 'default_values', 'temporary_values', 'last_modified_date_property', 'last_modified_date_property_1', 'generation_date', 'submission_date']\n"
     ]
    }
   ],
   "source": [
    "# Now read the cleaned CSV file using the schema\n",
    "df_cleaned = pd.read_csv('./data/data_cleaned2.csv', dtype=pandas_schema)\n",
    "\n",
    "# Select the categorical columns that need one-hot encoding\n",
    "categorical_columns = [key for key, value in schema.items() if value == 'object']\n",
    "numerical_columns = [key for key, value in schema.items() if value == 'float64']\n",
    "\n",
    "print(categorical_columns)\n",
    "# Perform one-hot encoding on the selected columns, and will be used for K-Means\n",
    "# data_encoded_categorical = pd.get_dummies(df_cleaned, columns=categorical_columns)  # Perform one-hot encoding\n",
    "# data_encoded_numerical = pd.get_dummies(df_cleaned, columns=numerical_columns)  # Perform one-hot encoding\n"
   ]
  },
  {
   "cell_type": "code",
   "execution_count": 118,
   "outputs": [],
   "source": [
    "# Function to calculate target means for each category\n",
    "def calculate_target_means(df, categorical_columns, target_column):\n",
    "    target_means = df.groupby(categorical_columns)[target_column].mean()\n",
    "    return target_means\n",
    "\n",
    "# Function to apply target encoding\n",
    "def apply_target_encoding(df, categorical_columns, target_column, target_means):\n",
    "    for col in categorical_columns:\n",
    "        df[col] = df[col].map(target_means)\n",
    "        print(f\"df[{col}] = {df[col].map(target_means)}\")\n",
    "    \n",
    "    # Rename the new column with the target means\n",
    "    df.rename(columns={target_column+'_mean': target_column}, inplace=True)\n"
   ],
   "metadata": {
    "collapsed": false,
    "ExecuteTime": {
     "end_time": "2023-10-08T01:19:05.848431Z",
     "start_time": "2023-10-08T01:19:05.844670Z"
    }
   },
   "id": "7abc24a1574e59c1"
  },
  {
   "cell_type": "markdown",
   "source": [
    "## Target Encoding or Mean Encoding\n",
    "Convert categorical variables into numerical representations by encoding them with the mean of the target variable for each category. This can capture the relationship between the categorical feature and the target variable."
   ],
   "metadata": {
    "collapsed": false
   },
   "id": "6c8671d7a68a9a36"
  },
  {
   "cell_type": "code",
   "execution_count": 129,
   "outputs": [
    {
     "name": "stdout",
     "output_type": "stream",
     "text": [
      "       property_id  year_ending  nyc_borough_block_and_lot  address_1  \\\n",
      "0       21205224.0          0.0                        0.0        0.0   \n",
      "1        2665352.0          0.0                        0.0        0.0   \n",
      "2        2665400.0          0.0                        0.0        0.0   \n",
      "3        2665405.0          0.0                        0.0        0.0   \n",
      "4        2665415.0          0.0                        0.0        0.0   \n",
      "...            ...          ...                        ...        ...   \n",
      "18317    6575086.0          0.0                        0.0        0.0   \n",
      "18318    6575119.0          0.0                        0.0        0.0   \n",
      "18319    6575799.0          0.0                        0.0        0.0   \n",
      "18320    6576684.0          0.0                        0.0        0.0   \n",
      "18321    2813826.0          0.0                        0.0        0.0   \n",
      "\n",
      "       postal_code  primary_property_type_self  national_median_reference  \\\n",
      "0              0.0                         0.0                        0.0   \n",
      "1              0.0                         0.0                        0.0   \n",
      "2              0.0                         0.0                        0.0   \n",
      "3              0.0                         0.0                        0.0   \n",
      "4              0.0                         0.0                        0.0   \n",
      "...            ...                         ...                        ...   \n",
      "18317          0.0                         0.0                        0.0   \n",
      "18318          0.0                         0.0                        0.0   \n",
      "18319          0.0                         0.0                        0.0   \n",
      "18320          0.0                         0.0                        0.0   \n",
      "18321          0.0                         0.0                        0.0   \n",
      "\n",
      "       largest_property_use_type_1  year_built  construction_status  ...  \\\n",
      "0                          25000.0      2010.0                  0.0  ...   \n",
      "1                         260780.0      1970.0                  0.0  ...   \n",
      "2                         324378.0      1943.0                  0.0  ...   \n",
      "3                        1039841.0      1975.0                  0.0  ...   \n",
      "4                          72662.0      1941.0                  0.0  ...   \n",
      "...                            ...         ...                  ...  ...   \n",
      "18317                      38199.0      1931.0                  0.0  ...   \n",
      "18318                      38736.0      1927.0                  0.0  ...   \n",
      "18319                      35824.0      1924.0                  0.0  ...   \n",
      "18320                      47130.0      1926.0                  0.0  ...   \n",
      "18321                      66010.0      1930.0                  0.0  ...   \n",
      "\n",
      "       temporary_values  property_gfa_self_reported  property_gfa_calculated  \\\n",
      "0                   0.0                     25000.0                  34146.0   \n",
      "1                   0.0                    261980.0                 261980.0   \n",
      "2                   0.0                    333342.0                 363092.0   \n",
      "3                   0.0                   1112900.0                1345900.0   \n",
      "4                   0.0                     72662.0                  72662.0   \n",
      "...                 ...                         ...                      ...   \n",
      "18317               0.0                     38199.0                  38199.0   \n",
      "18318               0.0                     38736.0                  38736.0   \n",
      "18319               0.0                     35824.0                  35824.0   \n",
      "18320               0.0                     49930.0                  49930.0   \n",
      "18321               0.0                     66010.0                  66010.0   \n",
      "\n",
      "       last_modified_date_property  last_modified_date_property_1  \\\n",
      "0                              0.0                            0.0   \n",
      "1                              0.0                            0.0   \n",
      "2                              0.0                            0.0   \n",
      "3                              0.0                            0.0   \n",
      "4                              0.0                            0.0   \n",
      "...                            ...                            ...   \n",
      "18317                          0.0                            0.0   \n",
      "18318                          0.0                            0.0   \n",
      "18319                          0.0                            0.0   \n",
      "18320                          0.0                            0.0   \n",
      "18321                          0.0                            0.0   \n",
      "\n",
      "       number_of_active_energy_meters  number_of_active_it_meters  \\\n",
      "0                                 8.0                         0.0   \n",
      "1                                 6.0                         0.0   \n",
      "2                                 3.0                         0.0   \n",
      "3                                 4.0                         0.0   \n",
      "4                                11.0                         0.0   \n",
      "...                               ...                         ...   \n",
      "18317                             4.0                         0.0   \n",
      "18318                             4.0                         0.0   \n",
      "18319                             4.0                         0.0   \n",
      "18320                             7.0                         0.0   \n",
      "18321                             4.0                         0.0   \n",
      "\n",
      "       generation_date  submission_date  mean_target  \n",
      "0                  0.0              0.0          0.0  \n",
      "1                  0.0              0.0          0.0  \n",
      "2                  0.0              0.0          0.0  \n",
      "3                  0.0              0.0          0.0  \n",
      "4                  0.0              0.0          0.0  \n",
      "...                ...              ...          ...  \n",
      "18317              0.0              0.0          0.0  \n",
      "18318              0.0              0.0          0.0  \n",
      "18319              0.0              0.0          0.0  \n",
      "18320              0.0              0.0          0.0  \n",
      "18321              0.0              0.0          0.0  \n",
      "\n",
      "[18322 rows x 45 columns]\n"
     ]
    }
   ],
   "source": [
    "# Calculate the mean target for each category in the categorical columns\n",
    "target_means = df_cleaned.groupby(categorical_columns)['net_emissions_metric_tons'].mean().reset_index()\n",
    "\n",
    "# Merge the target means back into the original DataFrame based on the categorical columns\n",
    "df_with_target_means = pd.merge(df_cleaned, target_means, on=categorical_columns, how='left')\n",
    "\n",
    "# Rename the column with the mean target values\n",
    "df_with_target_means.rename(columns={'net_emissions_metric_tons_x': 'net_emissions_metric_tons', 'net_emissions_metric_tons_y': 'mean_target'}, inplace=True)\n",
    "\n",
    "# Fill NaN values in the 'mean_target' column with 0\n",
    "df_with_target_means.fillna(0,  inplace=True)\n",
    "\n",
    "# Convert all columns to float64\n",
    "df_with_target_means = df_with_target_means.astype(float)\n",
    "\n",
    "# Now, df_with_target_means contains the mean target value for each row based on the categorical columns,\n",
    "# and all columns are of type float64\n",
    "print(df_with_target_means)"
   ],
   "metadata": {
    "collapsed": false,
    "ExecuteTime": {
     "end_time": "2023-10-08T01:32:48.378812Z",
     "start_time": "2023-10-08T01:32:48.353395Z"
    }
   },
   "id": "8d74e2486dd31809"
  },
  {
   "cell_type": "markdown",
   "id": "cc102983c7d2d184",
   "metadata": {
    "collapsed": false
   },
   "source": [
    "## Feature Selection & Scaling\n",
    "Choosing the relevant features for clustering the different types of buildings"
   ]
  },
  {
   "cell_type": "code",
   "execution_count": 130,
   "id": "e1463ab6046ce462",
   "metadata": {
    "collapsed": false,
    "ExecuteTime": {
     "end_time": "2023-10-08T01:32:52.787725Z",
     "start_time": "2023-10-08T01:32:52.781733Z"
    }
   },
   "outputs": [],
   "source": [
    "# Scale our data for a mean of 0\n",
    "scaler = StandardScaler()\n",
    "scaled_data = scaler.fit_transform(df_with_target_means)"
   ]
  },
  {
   "cell_type": "code",
   "execution_count": 131,
   "outputs": [],
   "source": [
    "# Perform dimensionality reduction using PCA\n",
    "num_components = 15\n",
    "pca = PCA(n_components=num_components)  # Adjust the number of components as needed\n",
    "reduced_features = pca.fit_transform(df_with_target_means)"
   ],
   "metadata": {
    "collapsed": false,
    "ExecuteTime": {
     "end_time": "2023-10-08T01:32:58.222718Z",
     "start_time": "2023-10-08T01:32:55.515421Z"
    }
   },
   "id": "367735e583d5de54"
  },
  {
   "cell_type": "code",
   "execution_count": 132,
   "outputs": [
    {
     "data": {
      "text/plain": "<Figure size 640x480 with 1 Axes>",
      "image/png": "[encoded data removed]"
     },
     "metadata": {},
     "output_type": "display_data"
    }
   ],
   "source": [
    "# Fit the PCA model to your data\n",
    "pca.fit(df_with_target_means)\n",
    "\n",
    "# Get the transformed data (principal components)\n",
    "components = pca.transform(df_with_target_means)\n",
    "\n",
    "# Calculate the explained variance for each component\n",
    "explained_variance = pca.explained_variance_ratio_\n",
    "\n",
    "# Plot the explained variance to decide on the number of components to keep\n",
    "plt.bar(range(1, num_components + 1), explained_variance)\n",
    "plt.xlabel('Principal Component')\n",
    "plt.ylabel('Explained Variance')\n",
    "plt.show()"
   ],
   "metadata": {
    "collapsed": false,
    "ExecuteTime": {
     "end_time": "2023-10-08T01:33:54.593176Z",
     "start_time": "2023-10-08T01:33:51.428378Z"
    }
   },
   "id": "a855b796e54cc836"
  },
  {
   "cell_type": "code",
   "execution_count": 136,
   "outputs": [
    {
     "name": "stdout",
     "output_type": "stream",
     "text": [
      "Most important features for Principal Component 15:\n",
      "[1.78054580e-07 1.36015036e-19 5.28275929e-20 2.29746091e-19\n",
      " 1.02938681e-19 5.50295659e-20 1.10731377e-18 5.48263464e-06\n",
      " 1.26603843e-02 2.32476616e-17 8.93483908e-03 9.96785773e-01\n",
      " 2.87414830e-17 3.51366138e-18 4.24039960e-20 6.38813044e-02\n",
      " 4.41866493e-02 1.83107683e-04 3.75076304e-04 8.12957551e-03\n",
      " 3.49018120e-06 3.10071901e-03 8.22497272e-04 7.80472379e-03\n",
      " 0.00000000e+00 0.00000000e+00 0.00000000e+00 0.00000000e+00\n",
      " 0.00000000e+00 0.00000000e+00 0.00000000e+00 0.00000000e+00\n",
      " 0.00000000e+00 0.00000000e+00 0.00000000e+00 0.00000000e+00\n",
      " 2.54677329e-06 2.80315067e-06 0.00000000e+00 0.00000000e+00\n",
      " 2.69378389e-03 2.08959292e-05 0.00000000e+00 0.00000000e+00\n",
      " 0.00000000e+00]\n",
      "occupancy: 1.00\n",
      "national_median_site_eui: 0.06\n",
      "national_median_source_eui: 0.04\n",
      "year_built: 0.01\n",
      "number_of_buildings: 0.01\n",
      "egrid_output_emissions_rate: 0.01\n",
      "multifamily_housing_percent_1: 0.01\n",
      "multifamily_housing_total: 0.00\n",
      "number_of_active_energy_meters: 0.00\n",
      "multifamily_housing_percent: 0.00\n",
      "national_median_total_ghg: 0.00\n",
      "net_emissions_metric_tons: 0.00\n",
      "number_of_active_it_meters: 0.00\n",
      "largest_property_use_type_1: 0.00\n",
      "multifamily_housing_gross: 0.00\n",
      "property_gfa_calculated: 0.00\n",
      "property_gfa_self_reported: 0.00\n",
      "property_id: 0.00\n",
      "metered_areas_energy: 0.00\n",
      "construction_status: 0.00\n",
      "national_median_energy_star: 0.00\n",
      "national_median_reference: 0.00\n",
      "address_1: 0.00\n",
      "year_ending: 0.00\n",
      "postal_code: 0.00\n",
      "primary_property_type_self: 0.00\n",
      "nyc_borough_block_and_lot: 0.00\n",
      "energy_star_certification_1: 0.00\n",
      "estimated_values_energy: 0.00\n",
      "estimated_values_water: 0.00\n",
      "alert_data_center_issue_with: 0.00\n",
      "alert_energy_meter_has_less: 0.00\n",
      "alert_energy_meter_has_gaps: 0.00\n",
      "alert_energy_meter_has: 0.00\n",
      "alert_energy_no_meters: 0.00\n",
      "alert_energy_meter_has_single: 0.00\n",
      "alert_water_meter_has_less: 0.00\n",
      "alert_property_has_no_uses: 0.00\n",
      "default_values: 0.00\n",
      "temporary_values: 0.00\n",
      "last_modified_date_property: 0.00\n",
      "last_modified_date_property_1: 0.00\n",
      "generation_date: 0.00\n",
      "submission_date: 0.00\n",
      "mean_target: 0.00\n"
     ]
    }
   ],
   "source": [
    "# Now, you can examine which original features contribute most to the first few components\n",
    "feature_contributions = abs(pca.components_[num_components - 1])\n",
    "sorted_features = sorted(zip(df_with_target_means.columns, feature_contributions), key=lambda x: -x[1])\n",
    "\n",
    "# Print the most important features for the chosen component\n",
    "print(f\"Most important features for Principal Component {num_components}:\")\n",
    "print(feature_contributions)\n",
    "contributions = {}\n",
    "count = 0\n",
    "for feature, contribution in sorted_features:\n",
    "    print(f\"{feature}: {contribution:.2f}\")"
   ],
   "metadata": {
    "collapsed": false,
    "ExecuteTime": {
     "end_time": "2023-10-08T01:36:31.734880Z",
     "start_time": "2023-10-08T01:36:31.724645Z"
    }
   },
   "id": "eac0923d2c828584"
  },
  {
   "cell_type": "markdown",
   "source": [
    "## K-Means Clustering\n",
    "After dimensionality reduction, we proceed with K-Means clustering on the reduced feature set. The goal is to cluster data points in this lower-dimensional space into K clusters."
   ],
   "metadata": {
    "collapsed": false
   },
   "id": "f8f8508ef670e96b"
  },
  {
   "cell_type": "code",
   "execution_count": 137,
   "outputs": [
    {
     "name": "stderr",
     "output_type": "stream",
     "text": [
      "/Users/bgutu/Desktop/Fall23/Hackton/DS-Hackathon-Fall-2023/.venv/lib/python3.10/site-packages/sklearn/cluster/_kmeans.py:1416: FutureWarning: The default value of `n_init` will change from 10 to 'auto' in 1.4. Set the value of `n_init` explicitly to suppress the warning\n",
      "  super()._check_params_vs_input(X, default_n_init=10)\n"
     ]
    },
    {
     "name": "stdout",
     "output_type": "stream",
     "text": [
      "Silhouette Score: 0.6395463485305067\n"
     ]
    }
   ],
   "source": [
    "# Choose the number of clusters (K)\n",
    "K = 3  # Replace with the desired number of clusters\n",
    "\n",
    "# Create a K-Means model\n",
    "# kmeans_model = KMeans(n_clusters=K, random_state=42)\n",
    "kmeans_model = KMeans(n_clusters=K, init='k-means++', random_state=42)\n",
    "\n",
    "# Fit the K-Means model to the reduced features\n",
    "kmeans_model.fit(reduced_features)\n",
    "\n",
    "# Get cluster assignments for each data point in the dataset\n",
    "cluster_assignments = kmeans_model.predict(reduced_features)\n",
    "\n",
    "silhouette_avg = silhouette_score(reduced_features, cluster_assignments)\n",
    "print(f\"Silhouette Score: {silhouette_avg}\")"
   ],
   "metadata": {
    "collapsed": false,
    "ExecuteTime": {
     "end_time": "2023-10-08T01:36:40.167257Z",
     "start_time": "2023-10-08T01:36:35.770396Z"
    }
   },
   "id": "4719a82c708cb2f2"
  },
  {
   "cell_type": "markdown",
   "id": "898ebce9859b8017",
   "metadata": {
    "collapsed": false
   },
   "source": [
    "## Plot"
   ]
  },
  {
   "cell_type": "code",
   "execution_count": 139,
   "id": "13eccf1a7f1d17a0",
   "metadata": {
    "collapsed": false,
    "ExecuteTime": {
     "end_time": "2023-10-08T01:37:57.337788Z",
     "start_time": "2023-10-08T01:37:57.128684Z"
    }
   },
   "outputs": [
    {
     "data": {
      "text/plain": "<Figure size 640x480 with 1 Axes>",
      "image/png": "[encoded data removed]"
     },
     "metadata": {},
     "output_type": "display_data"
    }
   ],
   "source": [
    "# Create a scatter plot to visualize the clusters\n",
    "plt.scatter(reduced_features[:,0], reduced_features[:,1], c=cluster_assignments, cmap='rainbow')\n",
    "plt.xlabel('Property Type')\n",
    "plt.ylabel('Net Emissions Metric Tons')\n",
    "plt.title('K-Means Clustering')\n",
    "plt.show()"
   ]
  },
  {
   "cell_type": "code",
   "execution_count": null,
   "id": "8056f46af95b3d0e",
   "metadata": {
    "ExecuteTime": {
     "start_time": "2023-10-07T23:43:31.868431Z"
    },
    "collapsed": false
   },
   "outputs": [],
   "source": []
  }
 ],
 "metadata": {
  "kernelspec": {
   "display_name": "Python 3 (ipykernel)",
   "language": "python",
   "name": "python3"
  },
  "language_info": {
   "codemirror_mode": {
    "name": "ipython",
    "version": 3
   },
   "file_extension": ".py",
   "mimetype": "text/x-python",
   "name": "python",
   "nbconvert_exporter": "python",
   "pygments_lexer": "ipython3",
   "version": "3.10.9"
  }
 },
 "nbformat": 4,
 "nbformat_minor": 5
}
