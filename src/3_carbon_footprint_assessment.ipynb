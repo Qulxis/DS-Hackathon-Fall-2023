{
 "cells": [
  {
   "cell_type": "markdown",
   "source": [
    "## Carbon Footprint Assessment:\n",
    "Develop a metric for evaluating building carbon footprints, accounting for energy and water consumption, size, and other factors."
   ],
   "metadata": {
    "collapsed": false
   },
   "id": "d69ab20796085f62"
  },
  {
   "cell_type": "code",
   "execution_count": 8,
   "outputs": [],
   "source": [
    "import pandas as pd\n",
    "from sklearn.cluster import KMeans\n",
    "from sklearn.preprocessing import StandardScaler\n",
    "import matplotlib.pyplot as plt\n",
    "import json"
   ],
   "metadata": {
    "collapsed": false,
    "ExecuteTime": {
     "end_time": "2023-10-07T21:49:17.863885Z",
     "start_time": "2023-10-07T21:49:17.842255Z"
    }
   },
   "id": "initial_id"
  },
  {
   "cell_type": "code",
   "execution_count": 20,
   "outputs": [
    {
     "name": "stdout",
     "output_type": "stream",
     "text": [
      "62\n",
      "features = 62\n"
     ]
    }
   ],
   "source": [
    "# Load the schema from the JSON file\n",
    "with open('./data/schema_cleaned.json') as schema_file:\n",
    "    schema = json.load(schema_file)\n",
    "\n",
    "# Convert schema to the format required by pandas\n",
    "# Note: In this case, we're assuming all the dtypes are compatible with pandas dtypes.\n",
    "# If there are any discrepancies, you may need to manually adjust the dtypes.\n",
    "pandas_schema = {key: value for key, value in schema.items()}\n",
    "print(len(pandas_schema))\n",
    "feature_list = [key for key, value in schema.items()]\n",
    "print(f\"features = {len(feature_list)}\")\n",
    "\n",
    "# Now df has the schema as specified in the schema.json file"
   ],
   "metadata": {
    "collapsed": false,
    "ExecuteTime": {
     "end_time": "2023-10-07T21:56:19.948459Z",
     "start_time": "2023-10-07T21:56:19.939470Z"
    }
   },
   "id": "679630cc2668661e"
  },
  {
   "cell_type": "markdown",
   "source": [
    "## Data Preparation\n",
    "Since not all our data is numerical, we'll need to do some one-hot encoding.\n",
    "Given all the categorical columns, we're going to use pandas library for one-hot encoding."
   ],
   "metadata": {
    "collapsed": false
   },
   "id": "fea6ab7f7d2f954d"
  },
  {
   "cell_type": "code",
   "execution_count": 21,
   "outputs": [],
   "source": [
    "# Now read the cleaned CSV file using the schema\n",
    "df_cleaned = pd.read_csv('./data/data_cleaned.csv', dtype=pandas_schema)\n",
    "\n",
    "# Select the categorical columns that need one-hot encoding\n",
    "categorical_columns = [key for key, value in schema.items() if value == 'object']\n",
    "\n",
    "# Perform one-hot encoding on the selected columns, and will be used for K-Means\n",
    "data_encoded = pd.get_dummies(df_cleaned, columns=categorical_columns)"
   ],
   "metadata": {
    "collapsed": false,
    "ExecuteTime": {
     "end_time": "2023-10-07T21:56:28.585727Z",
     "start_time": "2023-10-07T21:56:22.798396Z"
    }
   },
   "id": "fd682c454445f26e"
  },
  {
   "cell_type": "markdown",
   "source": [
    "## Feature Selection & Scaling\n",
    "Choosing the relevant features for clustering the different types of buildings"
   ],
   "metadata": {
    "collapsed": false
   },
   "id": "cc102983c7d2d184"
  },
  {
   "cell_type": "code",
   "execution_count": 22,
   "outputs": [
    {
     "ename": "KeyError",
     "evalue": "\"['property_name', 'year_ending', 'nyc_borough_block_and_lot', 'nyc_building_identification', 'address_1', 'city', 'postal_code', 'primary_property_type_self', 'primary_property_type', 'national_median_reference', 'list_of_all_property_use', 'largest_property_use_type', 'construction_status', 'metered_areas_energy', 'energy_star_certification_1', 'estimated_values_energy', 'estimated_values_water', 'alert_data_center_issue_with', 'alert_energy_meter_has_less', 'alert_energy_meter_has_gaps', 'alert_energy_meter_has', 'alert_energy_no_meters', 'alert_energy_meter_has_single', 'alert_water_meter_has_less', 'alert_property_has_no_uses', 'default_values', 'temporary_values', 'last_modified_date_property', 'last_modified_date_property_1', 'generation_date', 'submission_date'] not in index\"",
     "output_type": "error",
     "traceback": [
      "\u001B[0;31m---------------------------------------------------------------------------\u001B[0m",
      "\u001B[0;31mKeyError\u001B[0m                                  Traceback (most recent call last)",
      "Cell \u001B[0;32mIn[22], line 2\u001B[0m\n\u001B[1;32m      1\u001B[0m \u001B[38;5;66;03m# Select relevant features\u001B[39;00m\n\u001B[0;32m----> 2\u001B[0m X \u001B[38;5;241m=\u001B[39m \u001B[43mdata_encoded\u001B[49m\u001B[43m[\u001B[49m\u001B[43mfeature_list\u001B[49m\u001B[43m]\u001B[49m\n\u001B[1;32m      4\u001B[0m \u001B[38;5;66;03m# Scale the data\u001B[39;00m\n\u001B[1;32m      5\u001B[0m scaler \u001B[38;5;241m=\u001B[39m StandardScaler()\n",
      "File \u001B[0;32m~/Desktop/Fall23/Hackton/DS-Hackathon-Fall-2023/.venv/lib/python3.10/site-packages/pandas/core/frame.py:3811\u001B[0m, in \u001B[0;36mDataFrame.__getitem__\u001B[0;34m(self, key)\u001B[0m\n\u001B[1;32m   3809\u001B[0m     \u001B[38;5;28;01mif\u001B[39;00m is_iterator(key):\n\u001B[1;32m   3810\u001B[0m         key \u001B[38;5;241m=\u001B[39m \u001B[38;5;28mlist\u001B[39m(key)\n\u001B[0;32m-> 3811\u001B[0m     indexer \u001B[38;5;241m=\u001B[39m \u001B[38;5;28;43mself\u001B[39;49m\u001B[38;5;241;43m.\u001B[39;49m\u001B[43mcolumns\u001B[49m\u001B[38;5;241;43m.\u001B[39;49m\u001B[43m_get_indexer_strict\u001B[49m\u001B[43m(\u001B[49m\u001B[43mkey\u001B[49m\u001B[43m,\u001B[49m\u001B[43m \u001B[49m\u001B[38;5;124;43m\"\u001B[39;49m\u001B[38;5;124;43mcolumns\u001B[39;49m\u001B[38;5;124;43m\"\u001B[39;49m\u001B[43m)\u001B[49m[\u001B[38;5;241m1\u001B[39m]\n\u001B[1;32m   3813\u001B[0m \u001B[38;5;66;03m# take() does not accept boolean indexers\u001B[39;00m\n\u001B[1;32m   3814\u001B[0m \u001B[38;5;28;01mif\u001B[39;00m \u001B[38;5;28mgetattr\u001B[39m(indexer, \u001B[38;5;124m\"\u001B[39m\u001B[38;5;124mdtype\u001B[39m\u001B[38;5;124m\"\u001B[39m, \u001B[38;5;28;01mNone\u001B[39;00m) \u001B[38;5;241m==\u001B[39m \u001B[38;5;28mbool\u001B[39m:\n",
      "File \u001B[0;32m~/Desktop/Fall23/Hackton/DS-Hackathon-Fall-2023/.venv/lib/python3.10/site-packages/pandas/core/indexes/base.py:6113\u001B[0m, in \u001B[0;36mIndex._get_indexer_strict\u001B[0;34m(self, key, axis_name)\u001B[0m\n\u001B[1;32m   6110\u001B[0m \u001B[38;5;28;01melse\u001B[39;00m:\n\u001B[1;32m   6111\u001B[0m     keyarr, indexer, new_indexer \u001B[38;5;241m=\u001B[39m \u001B[38;5;28mself\u001B[39m\u001B[38;5;241m.\u001B[39m_reindex_non_unique(keyarr)\n\u001B[0;32m-> 6113\u001B[0m \u001B[38;5;28;43mself\u001B[39;49m\u001B[38;5;241;43m.\u001B[39;49m\u001B[43m_raise_if_missing\u001B[49m\u001B[43m(\u001B[49m\u001B[43mkeyarr\u001B[49m\u001B[43m,\u001B[49m\u001B[43m \u001B[49m\u001B[43mindexer\u001B[49m\u001B[43m,\u001B[49m\u001B[43m \u001B[49m\u001B[43maxis_name\u001B[49m\u001B[43m)\u001B[49m\n\u001B[1;32m   6115\u001B[0m keyarr \u001B[38;5;241m=\u001B[39m \u001B[38;5;28mself\u001B[39m\u001B[38;5;241m.\u001B[39mtake(indexer)\n\u001B[1;32m   6116\u001B[0m \u001B[38;5;28;01mif\u001B[39;00m \u001B[38;5;28misinstance\u001B[39m(key, Index):\n\u001B[1;32m   6117\u001B[0m     \u001B[38;5;66;03m# GH 42790 - Preserve name from an Index\u001B[39;00m\n",
      "File \u001B[0;32m~/Desktop/Fall23/Hackton/DS-Hackathon-Fall-2023/.venv/lib/python3.10/site-packages/pandas/core/indexes/base.py:6176\u001B[0m, in \u001B[0;36mIndex._raise_if_missing\u001B[0;34m(self, key, indexer, axis_name)\u001B[0m\n\u001B[1;32m   6173\u001B[0m     \u001B[38;5;28;01mraise\u001B[39;00m \u001B[38;5;167;01mKeyError\u001B[39;00m(\u001B[38;5;124mf\u001B[39m\u001B[38;5;124m\"\u001B[39m\u001B[38;5;124mNone of [\u001B[39m\u001B[38;5;132;01m{\u001B[39;00mkey\u001B[38;5;132;01m}\u001B[39;00m\u001B[38;5;124m] are in the [\u001B[39m\u001B[38;5;132;01m{\u001B[39;00maxis_name\u001B[38;5;132;01m}\u001B[39;00m\u001B[38;5;124m]\u001B[39m\u001B[38;5;124m\"\u001B[39m)\n\u001B[1;32m   6175\u001B[0m not_found \u001B[38;5;241m=\u001B[39m \u001B[38;5;28mlist\u001B[39m(ensure_index(key)[missing_mask\u001B[38;5;241m.\u001B[39mnonzero()[\u001B[38;5;241m0\u001B[39m]]\u001B[38;5;241m.\u001B[39munique())\n\u001B[0;32m-> 6176\u001B[0m \u001B[38;5;28;01mraise\u001B[39;00m \u001B[38;5;167;01mKeyError\u001B[39;00m(\u001B[38;5;124mf\u001B[39m\u001B[38;5;124m\"\u001B[39m\u001B[38;5;132;01m{\u001B[39;00mnot_found\u001B[38;5;132;01m}\u001B[39;00m\u001B[38;5;124m not in index\u001B[39m\u001B[38;5;124m\"\u001B[39m)\n",
      "\u001B[0;31mKeyError\u001B[0m: \"['property_name', 'year_ending', 'nyc_borough_block_and_lot', 'nyc_building_identification', 'address_1', 'city', 'postal_code', 'primary_property_type_self', 'primary_property_type', 'national_median_reference', 'list_of_all_property_use', 'largest_property_use_type', 'construction_status', 'metered_areas_energy', 'energy_star_certification_1', 'estimated_values_energy', 'estimated_values_water', 'alert_data_center_issue_with', 'alert_energy_meter_has_less', 'alert_energy_meter_has_gaps', 'alert_energy_meter_has', 'alert_energy_no_meters', 'alert_energy_meter_has_single', 'alert_water_meter_has_less', 'alert_property_has_no_uses', 'default_values', 'temporary_values', 'last_modified_date_property', 'last_modified_date_property_1', 'generation_date', 'submission_date'] not in index\""
     ]
    }
   ],
   "source": [
    "# Select relevant features\n",
    "X = data_encoded[feature_list]\n",
    "\n",
    "# Scale the data\n",
    "scaler = StandardScaler()\n",
    "X_scaled = scaler.fit_transform(X)\n"
   ],
   "metadata": {
    "collapsed": false,
    "ExecuteTime": {
     "end_time": "2023-10-07T21:56:36.623528Z",
     "start_time": "2023-10-07T21:56:36.579948Z"
    }
   },
   "id": "e1463ab6046ce462"
  },
  {
   "cell_type": "markdown",
   "source": [
    "## K-Means Clustering\n",
    "We should "
   ],
   "metadata": {
    "collapsed": false
   },
   "id": "f8f8508ef670e96b"
  },
  {
   "cell_type": "code",
   "execution_count": null,
   "outputs": [],
   "source": [
    "# Choose the number of clusters (K)\n",
    "K = 3\n",
    "\n",
    "# Create a K-Means model\n",
    "kmeans = KMeans(n_clusters=K, random_state=42)\n",
    "\n",
    "# Fit the model to the scaled data\n",
    "kmeans.fit(X_scaled)\n",
    "\n",
    "# Get cluster assignments for each data point\n",
    "cluster_assignments = kmeans.predict(X_scaled)\n",
    "\n",
    "# Visualize the clusters (for 2D data)\n",
    "plt.scatter(X['feature1'], X['feature2'], c=cluster_assignments, cmap='rainbow')\n",
    "plt.xlabel('Feature 1')\n",
    "plt.ylabel('Feature 2')\n",
    "plt.title('K-Means Clustering')\n",
    "plt.show()"
   ],
   "metadata": {
    "collapsed": false
   },
   "id": "4719a82c708cb2f2"
  }
 ],
 "metadata": {
  "kernelspec": {
   "display_name": "Python 3",
   "language": "python",
   "name": "python3"
  },
  "language_info": {
   "codemirror_mode": {
    "name": "ipython",
    "version": 2
   },
   "file_extension": ".py",
   "mimetype": "text/x-python",
   "name": "python",
   "nbconvert_exporter": "python",
   "pygments_lexer": "ipython2",
   "version": "2.7.6"
  }
 },
 "nbformat": 4,
 "nbformat_minor": 5
}
